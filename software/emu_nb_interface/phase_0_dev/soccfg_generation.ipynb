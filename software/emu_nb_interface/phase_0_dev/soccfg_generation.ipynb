{
 "cells": [
  {
   "cell_type": "markdown",
   "id": "dc32a357",
   "metadata": {},
   "source": [
    "# Generating the soccfg from the RFSoC\n",
    "\n",
    "This notebook shows how to generate the QICK configuration json while running the ZCU216 RFSoC.\n",
    "\n",
    "You can follow the demo here to run QICK on RFSoC: [QICK Demo](https://github.com/openquantumhardware/qick/blob/main/qick_demos/000_Install_qick_package.ipynb)"
   ]
  },
  {
   "cell_type": "code",
   "execution_count": null,
   "id": "2d300da0",
   "metadata": {},
   "outputs": [],
   "source": [
    "from qick import *\n",
    "from qick.asm_v2 import AveragerProgramV2\n"
   ]
  },
  {
   "cell_type": "code",
   "execution_count": null,
   "id": "4ae8220a",
   "metadata": {},
   "outputs": [],
   "source": [
    "# import qick tprov2 zcu216 bit files\n",
    "soc = QickSoc('/home/xilinx/jupyter_notebook/fw/qick_216.bit') # change to your bit files dp\n",
    "soccfg = soc\n",
    "print(soccfg)"
   ]
  },
  {
   "cell_type": "code",
   "execution_count": null,
   "id": "eeb4d646",
   "metadata": {},
   "outputs": [],
   "source": [
    "with open(\"qick_config_216.json\", \"w\") as f:\n",
    "    f.write(soc.dump_cfg())"
   ]
  }
 ],
 "metadata": {
  "kernelspec": {
   "display_name": "qick_api_dev",
   "language": "python",
   "name": "python3"
  },
  "language_info": {
   "codemirror_mode": {
    "name": "ipython",
    "version": 3
   },
   "file_extension": ".py",
   "mimetype": "text/x-python",
   "name": "python",
   "nbconvert_exporter": "python",
   "pygments_lexer": "ipython3",
   "version": "3.12.2"
  }
 },
 "nbformat": 4,
 "nbformat_minor": 5
}
