{
 "cells": [
  {
   "cell_type": "markdown",
   "id": "c3cecd25",
   "metadata": {},
   "source": [
    "### Notes for this jupyternotebook: \n",
    "This Notebook can run without the RFSoC to generates the `.mem` files, here's some steps that I took \n",
    "1. Create a venv ``python3 -m venv <name of your venv``\n",
    "2. Install neccessary packages such as ``matplotlib`` and ``numpy`` using ``pip3 install``\n",
    "3. Install QICK modules, runing `pip3 install git+https://github.com/openquantumhardware/qick.git`\n",
    "4. Be sure you have the `qick_config_216.json` for `soccfg`"
   ]
  },
  {
   "cell_type": "code",
   "execution_count": 1,
   "id": "a3afde4d",
   "metadata": {},
   "outputs": [],
   "source": [
    "%matplotlib inline\n",
    "import matplotlib.pyplot as plt\n",
    "import numpy as np\n",
    "import json\n",
    "\n",
    "import qick \n",
    "# help(qick)\n",
    "from qick import *\n",
    "from qick.asm_v2 import AveragerProgramV2\n",
    "from qick.asm_v2 import QickSpan, QickSweep1D\n",
    "from qick import QickConfig"
   ]
  },
  {
   "cell_type": "code",
   "execution_count": 2,
   "id": "866beeb0",
   "metadata": {},
   "outputs": [
    {
     "name": "stderr",
     "output_type": "stream",
     "text": [
      "QICK library version mismatch: 0.2.366 remote (the board), 0.2.369 local (the PC)\n",
      "                        This may cause errors, usually KeyError in QickConfig initialization.\n",
      "                        If this happens, you must bring your versions in sync.\n"
     ]
    }
   ],
   "source": [
    "soccfg = QickConfig(\"qick_config_216.json\")"
   ]
  },
  {
   "cell_type": "code",
   "execution_count": 6,
   "id": "9fbbad33",
   "metadata": {},
   "outputs": [],
   "source": [
    "GEN_CH = 0\n",
    "RO_CH = 0\n",
    "TRIG_TIME = 0.40\n",
    "FREQ = 100\n",
    "# FREQ = 0\n",
    "class MultiPulseProgram(AveragerProgramV2):\n",
    "    def _initialize(self, cfg):\n",
    "        ro_ch = cfg['ro_ch']\n",
    "        gen_ch = cfg['gen_ch']\n",
    "        \n",
    "        self.declare_gen(ch=gen_ch, nqz=1)\n",
    "        self.declare_readout(ch=ro_ch, length=cfg['ro_len'])\n",
    "\n",
    "        ramp_len = self.cycles2us(20, gen_ch=gen_ch)\n",
    "        self.add_gauss(ch=gen_ch, name=\"ramp\", sigma=ramp_len/10, length=ramp_len, even_length=True)\n",
    "        \n",
    "        self.add_pulse(ch=gen_ch, name=\"myflattop\", ro_ch=ro_ch, \n",
    "                       style    = \"flat_top\", \n",
    "                       envelope = \"ramp\", \n",
    "                       freq     = cfg['freq'], \n",
    "                       length   = 0.1,\n",
    "                       phase    = 0,\n",
    "                       gain     = 1.0, \n",
    "                      )\n",
    "\n",
    "        self.add_pulse(ch=gen_ch, name=\"myflattop2\", ro_ch=ro_ch, \n",
    "                       style    = \"flat_top\", \n",
    "                       envelope = \"ramp\", \n",
    "                       freq     = cfg['freq'], \n",
    "                       length   = 0.1,\n",
    "                       phase    = 90,\n",
    "                       gain     = 0.5, \n",
    "                      )\n",
    "\n",
    "        self.add_readoutconfig(ch=ro_ch, name=\"myro\", freq=cfg['freq'], gen_ch=gen_ch)\n",
    "        # send the config to the dynamic RO\n",
    "        self.send_readoutconfig(ch=ro_ch, name=\"myro\", t=0)\n",
    "        \n",
    "    def _body(self, cfg):\n",
    "        self.trigger(ros=[cfg['ro_ch']], pins=[0], t=cfg['trig_time'], ddr4=True)\n",
    "\n",
    "        for i in range(0,15):\n",
    "            self.pulse(ch=cfg['gen_ch'], name=\"myflattop\", t=1.0)\n",
    "            self.pulse(ch=cfg['gen_ch'], name=\"myflattop2\", t=1.0)"
   ]
  },
  {
   "cell_type": "code",
   "execution_count": 8,
   "id": "75465141",
   "metadata": {},
   "outputs": [],
   "source": [
    "config = {'gen_ch': GEN_CH,\n",
    "          'ro_ch': RO_CH,\n",
    "          'freq': FREQ,\n",
    "          'trig_time': 1.0,\n",
    "          'ro_len': 5.0,\n",
    "         }"
   ]
  },
  {
   "cell_type": "code",
   "execution_count": 9,
   "id": "0fb8e104",
   "metadata": {},
   "outputs": [
    {
     "name": "stderr",
     "output_type": "stream",
     "text": [
      "warning: pulse time 1.0 appears to conflict with previous pulse ending at <qick.asm_v2.QickParam object at 0x123429b20>?\n",
      "warning: pulse time 1.0 appears to conflict with previous pulse ending at <qick.asm_v2.QickParam object at 0x12342a2d0>?\n",
      "warning: pulse time 1.0 appears to conflict with previous pulse ending at <qick.asm_v2.QickParam object at 0x123429b20>?\n",
      "warning: pulse time 1.0 appears to conflict with previous pulse ending at <qick.asm_v2.QickParam object at 0x123429d60>?\n",
      "warning: pulse time 1.0 appears to conflict with previous pulse ending at <qick.asm_v2.QickParam object at 0x1230e7860>?\n",
      "warning: pulse time 1.0 appears to conflict with previous pulse ending at <qick.asm_v2.QickParam object at 0x123429b20>?\n",
      "warning: pulse time 1.0 appears to conflict with previous pulse ending at <qick.asm_v2.QickParam object at 0x123429d60>?\n",
      "warning: pulse time 1.0 appears to conflict with previous pulse ending at <qick.asm_v2.QickParam object at 0x1230e7860>?\n",
      "warning: pulse time 1.0 appears to conflict with previous pulse ending at <qick.asm_v2.QickParam object at 0x123429b20>?\n",
      "warning: pulse time 1.0 appears to conflict with previous pulse ending at <qick.asm_v2.QickParam object at 0x123429d60>?\n",
      "warning: pulse time 1.0 appears to conflict with previous pulse ending at <qick.asm_v2.QickParam object at 0x1230e7860>?\n",
      "warning: pulse time 1.0 appears to conflict with previous pulse ending at <qick.asm_v2.QickParam object at 0x123429b20>?\n",
      "warning: pulse time 1.0 appears to conflict with previous pulse ending at <qick.asm_v2.QickParam object at 0x123429d60>?\n",
      "warning: pulse time 1.0 appears to conflict with previous pulse ending at <qick.asm_v2.QickParam object at 0x1230e7860>?\n",
      "warning: pulse time 1.0 appears to conflict with previous pulse ending at <qick.asm_v2.QickParam object at 0x123429b20>?\n",
      "warning: pulse time 1.0 appears to conflict with previous pulse ending at <qick.asm_v2.QickParam object at 0x123429d60>?\n",
      "warning: pulse time 1.0 appears to conflict with previous pulse ending at <qick.asm_v2.QickParam object at 0x1230e7860>?\n",
      "warning: pulse time 1.0 appears to conflict with previous pulse ending at <qick.asm_v2.QickParam object at 0x123429b20>?\n",
      "warning: pulse time 1.0 appears to conflict with previous pulse ending at <qick.asm_v2.QickParam object at 0x123429d60>?\n",
      "warning: pulse time 1.0 appears to conflict with previous pulse ending at <qick.asm_v2.QickParam object at 0x1230e7860>?\n",
      "warning: pulse time 1.0 appears to conflict with previous pulse ending at <qick.asm_v2.QickParam object at 0x123429b20>?\n",
      "warning: pulse time 1.0 appears to conflict with previous pulse ending at <qick.asm_v2.QickParam object at 0x123429d60>?\n",
      "warning: pulse time 1.0 appears to conflict with previous pulse ending at <qick.asm_v2.QickParam object at 0x1230e7860>?\n",
      "warning: pulse time 1.0 appears to conflict with previous pulse ending at <qick.asm_v2.QickParam object at 0x123429b20>?\n",
      "warning: pulse time 1.0 appears to conflict with previous pulse ending at <qick.asm_v2.QickParam object at 0x123429d60>?\n",
      "warning: pulse time 1.0 appears to conflict with previous pulse ending at <qick.asm_v2.QickParam object at 0x1230e7860>?\n",
      "warning: pulse time 1.0 appears to conflict with previous pulse ending at <qick.asm_v2.QickParam object at 0x123429b20>?\n",
      "warning: pulse time 1.0 appears to conflict with previous pulse ending at <qick.asm_v2.QickParam object at 0x123429d60>?\n",
      "warning: pulse time 1.0 appears to conflict with previous pulse ending at <qick.asm_v2.QickParam object at 0x1230e7860>?\n"
     ]
    }
   ],
   "source": [
    "prog = MultiPulseProgram(soccfg, reps=1, final_delay=0.5, cfg=config)"
   ]
  },
  {
   "cell_type": "code",
   "execution_count": 17,
   "id": "be400a5e",
   "metadata": {},
   "outputs": [
    {
     "name": "stdout",
     "output_type": "stream",
     "text": [
      "// PMEM content\n",
      "000000000000000000\n",
      "8c600000000000000c\n",
      "dce000c20000000000\n",
      "4c080000000000d700\n",
      "8c6000000000000020\n",
      "dda00030000000d700\n",
      "dda00034800000d700\n",
      "dda00035000000d700\n",
      "dda00010000000dc00\n",
      "dda00014800000dc00\n",
      "dda00015000000dc00\n",
      "dce00000000000d700\n",
      "dce00020000000d700\n",
      "dce00040000000d700\n",
      "dce00060000000d700\n",
      "dce00080000000d700\n",
      "dce000a0000000d700\n",
      "dce00000000000d700\n",
      "dce00020000000d700\n",
      "dce00040000000d700\n",
      "dce00060000000d700\n",
      "dce00080000000d700\n",
      "dce000a0000000d700\n",
      "dce00000000000d700\n",
      "dce00020000000d700\n",
      "dce00040000000d700\n",
      "dce00060000000d700\n",
      "dce00080000000d700\n",
      "dce000a0000000d700\n",
      "dce00000000000d700\n",
      "dce00020000000d700\n",
      "dce00040000000d700\n",
      "dce00060000000d700\n",
      "dce00080000000d700\n",
      "dce000a0000000d700\n",
      "dce00000000000d700\n",
      "dce00020000000d700\n",
      "dce00040000000d700\n",
      "dce00060000000d700\n",
      "dce00080000000d700\n",
      "dce000a0000000d700\n",
      "dce00000000000d700\n",
      "dce00020000000d700\n",
      "dce00040000000d700\n",
      "dce00060000000d700\n",
      "dce00080000000d700\n",
      "dce000a0000000d700\n",
      "dce00000000000d700\n",
      "dce00020000000d700\n",
      "dce00040000000d700\n",
      "dce00060000000d700\n",
      "dce00080000000d700\n",
      "dce000a0000000d700\n",
      "dce00000000000d700\n",
      "dce00020000000d700\n",
      "dce00040000000d700\n",
      "dce00060000000d700\n",
      "dce00080000000d700\n",
      "dce000a0000000d700\n",
      "dce00000000000d700\n",
      "dce00020000000d700\n",
      "dce00040000000d700\n",
      "dce00060000000d700\n",
      "dce00080000000d700\n",
      "dce000a0000000d700\n",
      "dce00000000000d700\n",
      "dce00020000000d700\n",
      "dce00040000000d700\n",
      "dce00060000000d700\n",
      "dce00080000000d700\n",
      "dce000a0000000d700\n",
      "dce00000000000d700\n",
      "dce00020000000d700\n",
      "dce00040000000d700\n",
      "dce00060000000d700\n",
      "dce00080000000d700\n",
      "dce000a0000000d700\n",
      "dce00000000000d700\n",
      "dce00020000000d700\n",
      "dce00040000000d700\n",
      "dce00060000000d700\n",
      "dce00080000000d700\n",
      "dce000a0000000d700\n",
      "dce00000000000d700\n",
      "dce00020000000d700\n",
      "dce00040000000d700\n",
      "dce00060000000d700\n",
      "dce00080000000d700\n",
      "dce000a0000000d700\n",
      "dce00000000000d700\n",
      "dce00020000000d700\n",
      "dce00040000000d700\n",
      "dce00060000000d700\n",
      "dce00080000000d700\n",
      "dce000a0000000d700\n",
      "dce00000000000d700\n",
      "dce00020000000d700\n",
      "dce00040000000d700\n",
      "dce00060000000d700\n",
      "dce00080000000d700\n",
      "dce000a0000000d700\n",
      "081100000580050500\n",
      "39110ca00580050500\n",
      "4c0800000000057600\n",
      "88000000060000008c\n",
      "081100001000000000\n",
      "398800a010000000a0\n",
      "3c000d600000000000\n"
     ]
    }
   ],
   "source": [
    "prog.print_pmem2hex()"
   ]
  },
  {
   "cell_type": "code",
   "execution_count": 20,
   "id": "7c5767e6",
   "metadata": {},
   "outputs": [
    {
     "name": "stdout",
     "output_type": "stream",
     "text": [
      "// WMEM content\n",
      "// CONF_     LEN_    GAIN_   ENV_   PHASE_    FREQ\n",
      "___0008_0000000a_00007ffe_000000_00000000_02abc2bc\n",
      "___0009_0000003c_00003fff_000000_00000000_02abc2bc\n",
      "___0008_0000000a_00007ffe_00000a_00000000_02abc2bc\n",
      "___0008_0000000a_00003ffe_000000_40000000_02abc2bc\n",
      "___0009_0000003c_00001fff_000000_40000000_02abc2bc\n",
      "___0008_0000000a_00003ffe_00000a_40000000_02abc2bc\n"
     ]
    },
    {
     "ename": "OverflowError",
     "evalue": "Python integer -174762666 out of bounds for uint32",
     "output_type": "error",
     "traceback": [
      "\u001b[31m---------------------------------------------------------------------------\u001b[39m",
      "\u001b[31mOverflowError\u001b[39m                             Traceback (most recent call last)",
      "\u001b[36mCell\u001b[39m\u001b[36m \u001b[39m\u001b[32mIn[20]\u001b[39m\u001b[32m, line 1\u001b[39m\n\u001b[32m----> \u001b[39m\u001b[32m1\u001b[39m \u001b[43mprog\u001b[49m\u001b[43m.\u001b[49m\u001b[43mprint_wmem2hex\u001b[49m\u001b[43m(\u001b[49m\u001b[43m)\u001b[49m\n\u001b[32m      2\u001b[39m \u001b[38;5;66;03m# prog.print_sg_mem(sg_idx=0,gen_file=True)\u001b[39;00m\n",
      "\u001b[36mFile \u001b[39m\u001b[32m~/Desktop/Harvey_Mudd/hrl-clinic-25-26/jessica-qick/qick_api_dev/lib/python3.12/site-packages/qick/asm_v2.py:2597\u001b[39m, in \u001b[36mQickProgramV2.print_wmem2hex\u001b[39m\u001b[34m(self)\u001b[39m\n\u001b[32m   2594\u001b[39m \u001b[38;5;28mprint\u001b[39m(\u001b[33m\"\u001b[39m\u001b[33m// \u001b[39m\u001b[38;5;132;01m%4s\u001b[39;00m\u001b[33m_\u001b[39m\u001b[38;5;132;01m%8s\u001b[39;00m\u001b[33m_\u001b[39m\u001b[38;5;132;01m%8s\u001b[39;00m\u001b[33m_\u001b[39m\u001b[38;5;132;01m%6s\u001b[39;00m\u001b[33m_\u001b[39m\u001b[38;5;132;01m%8s\u001b[39;00m\u001b[33m_\u001b[39m\u001b[38;5;132;01m%8s\u001b[39;00m\u001b[33m\"\u001b[39m % (\u001b[33m'\u001b[39m\u001b[33mCONF\u001b[39m\u001b[33m'\u001b[39m,\u001b[33m'\u001b[39m\u001b[33mLEN\u001b[39m\u001b[33m'\u001b[39m,\u001b[33m'\u001b[39m\u001b[33mGAIN\u001b[39m\u001b[33m'\u001b[39m,\u001b[33m'\u001b[39m\u001b[33mENV\u001b[39m\u001b[33m'\u001b[39m,\u001b[33m'\u001b[39m\u001b[33mPHASE\u001b[39m\u001b[33m'\u001b[39m,\u001b[33m'\u001b[39m\u001b[33mFREQ\u001b[39m\u001b[33m'\u001b[39m))\n\u001b[32m   2595\u001b[39m \u001b[38;5;28;01mfor\u001b[39;00m ls \u001b[38;5;129;01min\u001b[39;00m \u001b[38;5;28mself\u001b[39m.binprog[\u001b[33m'\u001b[39m\u001b[33mwmem\u001b[39m\u001b[33m'\u001b[39m]:\n\u001b[32m   2596\u001b[39m     \u001b[38;5;66;03m# print(ls)\u001b[39;00m\n\u001b[32m-> \u001b[39m\u001b[32m2597\u001b[39m     l = \u001b[43mnp\u001b[49m\u001b[43m.\u001b[49m\u001b[43muint32\u001b[49m\u001b[43m(\u001b[49m\u001b[43mls\u001b[49m\u001b[43m)\u001b[49m\n\u001b[32m   2598\u001b[39m     \u001b[38;5;66;03m# Take only 168 bits (42 nibbles)\u001b[39;00m\n\u001b[32m   2599\u001b[39m     s = \u001b[33m\"\u001b[39m\u001b[33m___\u001b[39m\u001b[38;5;132;01m%04x\u001b[39;00m\u001b[33m_\u001b[39m\u001b[38;5;132;01m%08x\u001b[39;00m\u001b[33m_\u001b[39m\u001b[38;5;132;01m%08x\u001b[39;00m\u001b[33m_\u001b[39m\u001b[38;5;132;01m%06x\u001b[39;00m\u001b[33m_\u001b[39m\u001b[38;5;132;01m%08x\u001b[39;00m\u001b[33m_\u001b[39m\u001b[38;5;132;01m%08x\u001b[39;00m\u001b[33m\"\u001b[39m % (l[\u001b[32m5\u001b[39m], l[\u001b[32m4\u001b[39m], l[\u001b[32m3\u001b[39m], l[\u001b[32m2\u001b[39m], l[\u001b[32m1\u001b[39m], l[\u001b[32m0\u001b[39m])\n",
      "\u001b[31mOverflowError\u001b[39m: Python integer -174762666 out of bounds for uint32"
     ]
    }
   ],
   "source": [
    "prog.print_wmem2hex()\n",
    "# prog.print_sg_mem(sg_idx=0,gen_file=True)"
   ]
  },
  {
   "cell_type": "code",
   "execution_count": 21,
   "id": "7632616d",
   "metadata": {},
   "outputs": [
    {
     "ename": "AttributeError",
     "evalue": "'MultiPulseProgram' object has no attribute 'print_sg_mem'",
     "output_type": "error",
     "traceback": [
      "\u001b[31m---------------------------------------------------------------------------\u001b[39m",
      "\u001b[31mAttributeError\u001b[39m                            Traceback (most recent call last)",
      "\u001b[36mCell\u001b[39m\u001b[36m \u001b[39m\u001b[32mIn[21]\u001b[39m\u001b[32m, line 1\u001b[39m\n\u001b[32m----> \u001b[39m\u001b[32m1\u001b[39m \u001b[43mprog\u001b[49m\u001b[43m.\u001b[49m\u001b[43mprint_sg_mem\u001b[49m(sg_idx=\u001b[32m0\u001b[39m,gen_file=\u001b[38;5;28;01mTrue\u001b[39;00m)\n",
      "\u001b[36mFile \u001b[39m\u001b[32m~/Desktop/Harvey_Mudd/hrl-clinic-25-26/jessica-qick/qick_api_dev/lib/python3.12/site-packages/qick/qick_asm.py:1037\u001b[39m, in \u001b[36mAbsQickProgram.__getattr__\u001b[39m\u001b[34m(self, a)\u001b[39m\n\u001b[32m   1035\u001b[39m     \u001b[38;5;28;01mreturn\u001b[39;00m \u001b[38;5;28mgetattr\u001b[39m(\u001b[38;5;28mself\u001b[39m.soccfg, a)\n\u001b[32m   1036\u001b[39m \u001b[38;5;28;01melse\u001b[39;00m:\n\u001b[32m-> \u001b[39m\u001b[32m1037\u001b[39m     \u001b[38;5;28;01mreturn\u001b[39;00m \u001b[38;5;28;43mobject\u001b[39;49m\u001b[43m.\u001b[49m\u001b[34;43m__getattribute__\u001b[39;49m\u001b[43m(\u001b[49m\u001b[38;5;28;43mself\u001b[39;49m\u001b[43m,\u001b[49m\u001b[43m \u001b[49m\u001b[43ma\u001b[49m\u001b[43m)\u001b[49m\n",
      "\u001b[31mAttributeError\u001b[39m: 'MultiPulseProgram' object has no attribute 'print_sg_mem'"
     ]
    }
   ],
   "source": [
    "prog.print_sg_mem(sg_idx=0,gen_file=True)"
   ]
  },
  {
   "cell_type": "code",
   "execution_count": null,
   "id": "9b14eb92",
   "metadata": {},
   "outputs": [],
   "source": []
  }
 ],
 "metadata": {
  "kernelspec": {
   "display_name": "qick_api_dev",
   "language": "python",
   "name": "python3"
  },
  "language_info": {
   "codemirror_mode": {
    "name": "ipython",
    "version": 3
   },
   "file_extension": ".py",
   "mimetype": "text/x-python",
   "name": "python",
   "nbconvert_exporter": "python",
   "pygments_lexer": "ipython3",
   "version": "3.12.2"
  }
 },
 "nbformat": 4,
 "nbformat_minor": 5
}
