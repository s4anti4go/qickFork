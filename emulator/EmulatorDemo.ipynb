{
 "cells": [
  {
   "cell_type": "code",
   "execution_count": 2,
   "id": "441123cc-876a-47c2-a17e-1dfcf33c2fbc",
   "metadata": {},
   "outputs": [],
   "source": [
    "import sys, pathlib\n",
    "REPO_ROOT = pathlib.Path(\"/Users/Sbf/Desktop/to_verilate\").resolve()\n",
    "sys.path.insert(0, str(REPO_ROOT))\n",
    "\n",
    "from emulator.emulator import QickEmulator\n",
    "from qick import QickConfig\n",
    "from qick.asm_v2 import AveragerProgramV2\n",
    "\n",
    "CFG_PATH = REPO_ROOT / \"emulator\" / \"qick_config_216.json\""
   ]
  },
  {
   "cell_type": "code",
   "execution_count": 3,
   "id": "976ea0d5-e678-44d9-b343-77be1af460c9",
   "metadata": {},
   "outputs": [
    {
     "name": "stderr",
     "output_type": "stream",
     "text": [
      "QICK library version mismatch: 0.2.366 remote (the board), 0.2.370 local (the PC)\n",
      "                        This may cause errors, usually KeyError in QickConfig initialization.\n",
      "                        If this happens, you must bring your versions in sync.\n"
     ]
    },
    {
     "name": "stdout",
     "output_type": "stream",
     "text": [
      "gens BEFORE: [{'b_dds': 32, 'b_phase': 32, 'complex_env': True, 'dac': '00', 'f_dds': 9584.64, 'f_fabric': 599.04, 'fdds_div': 1, 'fs': 9584.64, 'fs_div': 1, 'fs_mult': 39, 'fullpath': 'axis_signal_gen_v6_0', 'has_dds': True, 'has_mixer': False, 'interpolation': 1, 'maxlen': 65536, 'maxv': 32766, 'maxv_scale': 1.0, 'mixer_freq': 100.0, 'revision': 4, 'samps_per_clk': 16, 'tproc_ch': 0, 'type': 'axis_signal_gen_v6', 'version': '1.0'}, {'b_dds': 32, 'b_phase': 32, 'complex_env': True, 'dac': '01', 'f_dds': 9584.64, 'f_fabric': 599.04, 'fdds_div': 1, 'fs': 9584.64, 'fs_div': 1, 'fs_mult': 39, 'fullpath': 'axis_signal_gen_v6_1', 'has_dds': True, 'has_mixer': False, 'interpolation': 1, 'maxlen': 16384, 'maxv': 32766, 'maxv_scale': 1.0, 'revision': 4, 'samps_per_clk': 16, 'tproc_ch': 1, 'type': 'axis_signal_gen_v6', 'version': '1.0'}, {'b_dds': 32, 'b_phase': 32, 'complex_env': True, 'dac': '02', 'f_dds': 9584.64, 'f_fabric': 599.04, 'fdds_div': 1, 'fs': 9584.64, 'fs_div': 1, 'fs_mult': 39, 'fullpath': 'axis_signal_gen_v6_2', 'has_dds': True, 'has_mixer': False, 'interpolation': 1, 'maxlen': 32768, 'maxv': 32766, 'maxv_scale': 1.0, 'revision': 4, 'samps_per_clk': 16, 'tproc_ch': 2, 'type': 'axis_signal_gen_v6', 'version': '1.0'}, {'b_dds': 32, 'b_phase': 32, 'complex_env': True, 'dac': '03', 'f_dds': 9584.64, 'f_fabric': 599.04, 'fdds_div': 1, 'fs': 9584.64, 'fs_div': 1, 'fs_mult': 39, 'fullpath': 'axis_signal_gen_v6_3', 'has_dds': True, 'has_mixer': False, 'interpolation': 1, 'maxlen': 16384, 'maxv': 32766, 'maxv_scale': 1.0, 'revision': 4, 'samps_per_clk': 16, 'tproc_ch': 3, 'type': 'axis_signal_gen_v6', 'version': '1.0'}, {'b_dds': 32, 'b_phase': 32, 'dac': '10', 'f_dds': 1720.32, 'f_fabric': 430.08, 'fdds_div': 8, 'fs': 6881.28, 'fs_div': 2, 'fs_mult': 56, 'fullpath': 'axis_sg_mixmux8_v1_0', 'has_dds': True, 'has_gain': True, 'has_mixer': True, 'has_phase': True, 'interpolation': 4, 'maxv': 32766, 'n_tones': 8, 'revision': 5, 'tmux_ch': 0, 'tproc_ch': 4, 'type': 'axis_sg_mixmux8_v1', 'version': '1.0'}, {'b_dds': 32, 'b_phase': 32, 'complex_env': True, 'dac': '11', 'f_dds': 1720.32, 'f_fabric': 430.08, 'fdds_div': 8, 'fs': 6881.28, 'fs_div': 2, 'fs_mult': 56, 'fullpath': 'axis_sg_int4_v2_0', 'has_dds': True, 'has_mixer': True, 'interpolation': 4, 'maxlen': 16384, 'maxv': 32766, 'maxv_scale': 0.9, 'revision': 9, 'samps_per_clk': 1, 'tproc_ch': 5, 'type': 'axis_sg_int4_v2', 'version': '1.0'}, {'b_dds': 32, 'b_phase': 32, 'complex_env': True, 'dac': '12', 'f_dds': 1720.32, 'f_fabric': 430.08, 'fdds_div': 8, 'fs': 6881.28, 'fs_div': 2, 'fs_mult': 56, 'fullpath': 'axis_sg_int4_v2_1', 'has_dds': True, 'has_mixer': True, 'interpolation': 4, 'maxlen': 8192, 'maxv': 32766, 'maxv_scale': 0.9, 'revision': 9, 'samps_per_clk': 1, 'tproc_ch': 6, 'type': 'axis_sg_int4_v2', 'version': '1.0'}, {'b_dds': 32, 'b_phase': 32, 'complex_env': True, 'dac': '13', 'f_dds': 1720.32, 'f_fabric': 430.08, 'fdds_div': 8, 'fs': 6881.28, 'fs_div': 2, 'fs_mult': 56, 'fullpath': 'axis_sg_int4_v2_2', 'has_dds': True, 'has_mixer': True, 'interpolation': 4, 'maxlen': 16384, 'maxv': 32766, 'maxv_scale': 0.9, 'revision': 9, 'samps_per_clk': 1, 'tproc_ch': 7, 'type': 'axis_sg_int4_v2', 'version': '1.0'}, {'b_dds': 32, 'b_phase': 32, 'complex_env': True, 'dac': '20', 'f_dds': 1720.32, 'f_fabric': 430.08, 'fdds_div': 8, 'fs': 6881.28, 'fs_div': 2, 'fs_mult': 56, 'fullpath': 'axis_sg_int4_v2_3', 'has_dds': True, 'has_mixer': True, 'interpolation': 4, 'maxlen': 8192, 'maxv': 32766, 'maxv_scale': 0.9, 'revision': 9, 'samps_per_clk': 1, 'tproc_ch': 8, 'type': 'axis_sg_int4_v2', 'version': '1.0'}, {'b_dds': 32, 'b_phase': 32, 'complex_env': True, 'dac': '21', 'f_dds': 1720.32, 'f_fabric': 430.08, 'fdds_div': 8, 'fs': 6881.28, 'fs_div': 2, 'fs_mult': 56, 'fullpath': 'axis_sg_int4_v2_4', 'has_dds': True, 'has_mixer': True, 'interpolation': 4, 'maxlen': 8192, 'maxv': 32766, 'maxv_scale': 0.9, 'revision': 9, 'samps_per_clk': 1, 'tproc_ch': 9, 'type': 'axis_sg_int4_v2', 'version': '1.0'}, {'b_dds': 32, 'b_phase': 32, 'complex_env': True, 'dac': '22', 'f_dds': 1720.32, 'f_fabric': 430.08, 'fdds_div': 8, 'fs': 6881.28, 'fs_div': 2, 'fs_mult': 56, 'fullpath': 'axis_sg_int4_v2_5', 'has_dds': True, 'has_mixer': True, 'interpolation': 4, 'maxlen': 8192, 'maxv': 32766, 'maxv_scale': 0.9, 'revision': 9, 'samps_per_clk': 1, 'tproc_ch': 10, 'type': 'axis_sg_int4_v2', 'version': '1.0'}, {'b_dds': 32, 'b_phase': 32, 'complex_env': True, 'dac': '23', 'f_dds': 1720.32, 'f_fabric': 430.08, 'fdds_div': 8, 'fs': 6881.28, 'fs_div': 2, 'fs_mult': 56, 'fullpath': 'axis_sg_int4_v2_6', 'has_dds': True, 'has_mixer': True, 'interpolation': 4, 'maxlen': 8192, 'maxv': 32766, 'maxv_scale': 0.9, 'revision': 9, 'samps_per_clk': 1, 'tproc_ch': 11, 'type': 'axis_sg_int4_v2', 'version': '1.0'}, {'b_dds': 32, 'b_phase': 32, 'complex_env': True, 'dac': '30', 'f_dds': 1720.32, 'f_fabric': 430.08, 'fdds_div': 8, 'fs': 6881.28, 'fs_div': 2, 'fs_mult': 56, 'fullpath': 'axis_sg_int4_v2_7', 'has_dds': True, 'has_mixer': True, 'interpolation': 4, 'maxlen': 8192, 'maxv': 32766, 'maxv_scale': 0.9, 'revision': 9, 'samps_per_clk': 1, 'tproc_ch': 12, 'type': 'axis_sg_int4_v2', 'version': '1.0'}, {'b_dds': 32, 'b_phase': 32, 'complex_env': True, 'dac': '31', 'f_dds': 1720.32, 'f_fabric': 430.08, 'fdds_div': 8, 'fs': 6881.28, 'fs_div': 2, 'fs_mult': 56, 'fullpath': 'axis_sg_int4_v2_8', 'has_dds': True, 'has_mixer': True, 'interpolation': 4, 'maxlen': 8192, 'maxv': 32766, 'maxv_scale': 0.9, 'revision': 9, 'samps_per_clk': 1, 'tproc_ch': 13, 'type': 'axis_sg_int4_v2', 'version': '1.0'}, {'b_dds': 32, 'b_phase': 32, 'complex_env': True, 'dac': '32', 'f_dds': 1720.32, 'f_fabric': 430.08, 'fdds_div': 8, 'fs': 6881.28, 'fs_div': 2, 'fs_mult': 56, 'fullpath': 'axis_sg_int4_v2_9', 'has_dds': True, 'has_mixer': True, 'interpolation': 4, 'maxlen': 8192, 'maxv': 32766, 'maxv_scale': 0.9, 'revision': 9, 'samps_per_clk': 1, 'tproc_ch': 14, 'type': 'axis_sg_int4_v2', 'version': '1.0'}, {'b_dds': 32, 'b_phase': 32, 'complex_env': True, 'dac': '33', 'f_dds': 1720.32, 'f_fabric': 430.08, 'fdds_div': 8, 'fs': 6881.28, 'fs_div': 2, 'fs_mult': 56, 'fullpath': 'axis_sg_int4_v2_10', 'has_dds': True, 'has_mixer': True, 'interpolation': 4, 'maxlen': 8192, 'maxv': 32766, 'maxv_scale': 0.9, 'revision': 9, 'samps_per_clk': 1, 'tproc_ch': 15, 'type': 'axis_sg_int4_v2', 'version': '1.0'}]\n",
      "rf.tiles BEFORE: {'adc': {'2': {'blocks': ['20', '21', '22'], 'coupling': 'AC', 'f_fabric': 307.2, 'f_out': 307.2, 'f_ref': 245.76, 'fabric_div': 8, 'fs': 2457.6, 'fs_div': 4, 'fs_mult': 40, 'out_div': 1, 'ref_div': 1}}, 'dac': {'0': {'blocks': ['00', '01', '02', '03'], 'coupling': 'AC', 'f_fabric': 599.04, 'f_out': 599.04, 'f_ref': 245.76, 'fabric_div': 16, 'fs': 9584.64, 'fs_div': 1, 'fs_mult': 39, 'out_div': 1, 'ref_div': 1}, '1': {'blocks': ['10', '11', '12', '13'], 'coupling': 'AC', 'f_fabric': 430.08, 'f_out': 430.08, 'f_ref': 245.76, 'fabric_div': 16, 'fs': 6881.28, 'fs_div': 2, 'fs_mult': 56, 'out_div': 1, 'ref_div': 1}, '2': {'fs': 5898.24}, '3': {'blocks': ['30', '31', '32', '33'], 'coupling': 'AC', 'f_fabric': 430.08, 'f_out': 430.08, 'f_ref': 245.76, 'fabric_div': 16, 'fs': 6881.28, 'fs_div': 2, 'fs_mult': 56, 'out_div': 1, 'ref_div': 1}}}\n"
     ]
    }
   ],
   "source": [
    "# A) Show what’s configurable (straight from JSON/QickConfig)\n",
    "soccfg = QickConfig(str(CFG_PATH))\n",
    "def cfg_dict(soccfg):\n",
    "    if hasattr(soccfg, \"_cfg\"): return soccfg._cfg\n",
    "    if hasattr(soccfg, \"as_dict\"): \n",
    "        d = soccfg.as_dict()\n",
    "        if d is not None: return d\n",
    "    if hasattr(soccfg, \"to_dict\"):\n",
    "        d = soccfg.to_dict()\n",
    "        if d is not None: return d\n",
    "    return {}\n",
    "\n",
    "base = cfg_dict(soccfg)\n",
    "print(\"gens BEFORE:\", base.get(\"gens\", []))\n",
    "print(\"rf.tiles BEFORE:\", base.get(\"rf\", {}).get(\"tiles\", {}))"
   ]
  },
  {
   "cell_type": "code",
   "execution_count": 5,
   "id": "7dadf1d1-83b8-48df-af15-4fb1154f2dfe",
   "metadata": {},
   "outputs": [
    {
     "name": "stderr",
     "output_type": "stream",
     "text": [
      "QICK library version mismatch: 0.2.366 remote (the board), 0.2.370 local (the PC)\n",
      "                        This may cause errors, usually KeyError in QickConfig initialization.\n",
      "                        If this happens, you must bring your versions in sync.\n",
      "QICK library version mismatch: 0.2.366 remote (the board), 0.2.370 local (the PC)\n",
      "                        This may cause errors, usually KeyError in QickConfig initialization.\n",
      "                        If this happens, you must bring your versions in sync.\n"
     ]
    },
    {
     "name": "stdout",
     "output_type": "stream",
     "text": [
      "gens AFTER: [{'b_dds': 32, 'b_phase': 32, 'complex_env': True, 'dac': '00', 'f_dds': 9584.64, 'f_fabric': 599.04, 'fdds_div': 1, 'fs': 9584.64, 'fs_div': 1, 'fs_mult': 39, 'fullpath': 'axis_signal_gen_v6_0', 'has_dds': True, 'has_mixer': False, 'interpolation': 1, 'maxlen': 65536, 'maxv': 32766, 'maxv_scale': 1.0, 'mixer_freq': 100.0, 'revision': 4, 'samps_per_clk': 16, 'tproc_ch': 0, 'type': 'axis_signal_gen_v6', 'version': '1.0'}, {'b_dds': 32, 'b_phase': 32, 'complex_env': True, 'dac': '01', 'f_dds': 9584.64, 'f_fabric': 599.04, 'fdds_div': 1, 'fs': 9584.64, 'fs_div': 1, 'fs_mult': 39, 'fullpath': 'axis_signal_gen_v6_1', 'has_dds': True, 'has_mixer': False, 'interpolation': 1, 'maxlen': 16384, 'maxv': 32766, 'maxv_scale': 1.0, 'revision': 4, 'samps_per_clk': 16, 'tproc_ch': 1, 'type': 'axis_signal_gen_v6', 'version': '1.0'}, {'b_dds': 32, 'b_phase': 32, 'complex_env': True, 'dac': '02', 'f_dds': 9584.64, 'f_fabric': 599.04, 'fdds_div': 1, 'fs': 9584.64, 'fs_div': 1, 'fs_mult': 39, 'fullpath': 'axis_signal_gen_v6_2', 'has_dds': True, 'has_mixer': False, 'interpolation': 1, 'maxlen': 32768, 'maxv': 32766, 'maxv_scale': 1.0, 'revision': 4, 'samps_per_clk': 16, 'tproc_ch': 2, 'type': 'axis_signal_gen_v6', 'version': '1.0'}, {'b_dds': 32, 'b_phase': 32, 'complex_env': True, 'dac': '03', 'f_dds': 9584.64, 'f_fabric': 599.04, 'fdds_div': 1, 'fs': 9584.64, 'fs_div': 1, 'fs_mult': 39, 'fullpath': 'axis_signal_gen_v6_3', 'has_dds': True, 'has_mixer': False, 'interpolation': 1, 'maxlen': 16384, 'maxv': 32766, 'maxv_scale': 1.0, 'revision': 4, 'samps_per_clk': 16, 'tproc_ch': 3, 'type': 'axis_signal_gen_v6', 'version': '1.0'}, {'b_dds': 32, 'b_phase': 32, 'dac': '10', 'f_dds': 1720.32, 'f_fabric': 430.08, 'fdds_div': 8, 'fs': 6881.28, 'fs_div': 2, 'fs_mult': 56, 'fullpath': 'axis_sg_mixmux8_v1_0', 'has_dds': True, 'has_gain': True, 'has_mixer': True, 'has_phase': True, 'interpolation': 4, 'maxv': 32766, 'n_tones': 8, 'revision': 5, 'tmux_ch': 0, 'tproc_ch': 4, 'type': 'axis_sg_mixmux8_v1', 'version': '1.0'}, {'b_dds': 32, 'b_phase': 32, 'complex_env': True, 'dac': '11', 'f_dds': 1720.32, 'f_fabric': 430.08, 'fdds_div': 8, 'fs': 6881.28, 'fs_div': 2, 'fs_mult': 56, 'fullpath': 'axis_sg_int4_v2_0', 'has_dds': True, 'has_mixer': True, 'interpolation': 4, 'maxlen': 16384, 'maxv': 32766, 'maxv_scale': 0.9, 'revision': 9, 'samps_per_clk': 1, 'tproc_ch': 5, 'type': 'axis_sg_int4_v2', 'version': '1.0'}, {'b_dds': 32, 'b_phase': 32, 'complex_env': True, 'dac': '12', 'f_dds': 1720.32, 'f_fabric': 430.08, 'fdds_div': 8, 'fs': 6881.28, 'fs_div': 2, 'fs_mult': 56, 'fullpath': 'axis_sg_int4_v2_1', 'has_dds': True, 'has_mixer': True, 'interpolation': 4, 'maxlen': 8192, 'maxv': 32766, 'maxv_scale': 0.9, 'revision': 9, 'samps_per_clk': 1, 'tproc_ch': 6, 'type': 'axis_sg_int4_v2', 'version': '1.0'}, {'b_dds': 32, 'b_phase': 32, 'complex_env': True, 'dac': '13', 'f_dds': 1720.32, 'f_fabric': 430.08, 'fdds_div': 8, 'fs': 6881.28, 'fs_div': 2, 'fs_mult': 56, 'fullpath': 'axis_sg_int4_v2_2', 'has_dds': True, 'has_mixer': True, 'interpolation': 4, 'maxlen': 16384, 'maxv': 32766, 'maxv_scale': 0.9, 'revision': 9, 'samps_per_clk': 1, 'tproc_ch': 7, 'type': 'axis_sg_int4_v2', 'version': '1.0'}, {'b_dds': 32, 'b_phase': 32, 'complex_env': True, 'dac': '20', 'f_dds': 1720.32, 'f_fabric': 430.08, 'fdds_div': 8, 'fs': 6881.28, 'fs_div': 2, 'fs_mult': 56, 'fullpath': 'axis_sg_int4_v2_3', 'has_dds': True, 'has_mixer': True, 'interpolation': 4, 'maxlen': 8192, 'maxv': 32766, 'maxv_scale': 0.9, 'revision': 9, 'samps_per_clk': 1, 'tproc_ch': 8, 'type': 'axis_sg_int4_v2', 'version': '1.0'}, {'b_dds': 32, 'b_phase': 32, 'complex_env': True, 'dac': '21', 'f_dds': 1720.32, 'f_fabric': 430.08, 'fdds_div': 8, 'fs': 6881.28, 'fs_div': 2, 'fs_mult': 56, 'fullpath': 'axis_sg_int4_v2_4', 'has_dds': True, 'has_mixer': True, 'interpolation': 4, 'maxlen': 8192, 'maxv': 32766, 'maxv_scale': 0.9, 'revision': 9, 'samps_per_clk': 1, 'tproc_ch': 9, 'type': 'axis_sg_int4_v2', 'version': '1.0'}, {'b_dds': 32, 'b_phase': 32, 'complex_env': True, 'dac': '22', 'f_dds': 1720.32, 'f_fabric': 430.08, 'fdds_div': 8, 'fs': 6881.28, 'fs_div': 2, 'fs_mult': 56, 'fullpath': 'axis_sg_int4_v2_5', 'has_dds': True, 'has_mixer': True, 'interpolation': 4, 'maxlen': 8192, 'maxv': 32766, 'maxv_scale': 0.9, 'revision': 9, 'samps_per_clk': 1, 'tproc_ch': 10, 'type': 'axis_sg_int4_v2', 'version': '1.0'}, {'b_dds': 32, 'b_phase': 32, 'complex_env': True, 'dac': '23', 'f_dds': 1720.32, 'f_fabric': 430.08, 'fdds_div': 8, 'fs': 6881.28, 'fs_div': 2, 'fs_mult': 56, 'fullpath': 'axis_sg_int4_v2_6', 'has_dds': True, 'has_mixer': True, 'interpolation': 4, 'maxlen': 8192, 'maxv': 32766, 'maxv_scale': 0.9, 'revision': 9, 'samps_per_clk': 1, 'tproc_ch': 11, 'type': 'axis_sg_int4_v2', 'version': '1.0'}, {'b_dds': 32, 'b_phase': 32, 'complex_env': True, 'dac': '30', 'f_dds': 1720.32, 'f_fabric': 430.08, 'fdds_div': 8, 'fs': 6881.28, 'fs_div': 2, 'fs_mult': 56, 'fullpath': 'axis_sg_int4_v2_7', 'has_dds': True, 'has_mixer': True, 'interpolation': 4, 'maxlen': 8192, 'maxv': 32766, 'maxv_scale': 0.9, 'revision': 9, 'samps_per_clk': 1, 'tproc_ch': 12, 'type': 'axis_sg_int4_v2', 'version': '1.0'}, {'b_dds': 32, 'b_phase': 32, 'complex_env': True, 'dac': '31', 'f_dds': 1720.32, 'f_fabric': 430.08, 'fdds_div': 8, 'fs': 6881.28, 'fs_div': 2, 'fs_mult': 56, 'fullpath': 'axis_sg_int4_v2_8', 'has_dds': True, 'has_mixer': True, 'interpolation': 4, 'maxlen': 8192, 'maxv': 32766, 'maxv_scale': 0.9, 'revision': 9, 'samps_per_clk': 1, 'tproc_ch': 13, 'type': 'axis_sg_int4_v2', 'version': '1.0'}, {'b_dds': 32, 'b_phase': 32, 'complex_env': True, 'dac': '32', 'f_dds': 1720.32, 'f_fabric': 430.08, 'fdds_div': 8, 'fs': 6881.28, 'fs_div': 2, 'fs_mult': 56, 'fullpath': 'axis_sg_int4_v2_9', 'has_dds': True, 'has_mixer': True, 'interpolation': 4, 'maxlen': 8192, 'maxv': 32766, 'maxv_scale': 0.9, 'revision': 9, 'samps_per_clk': 1, 'tproc_ch': 14, 'type': 'axis_sg_int4_v2', 'version': '1.0'}, {'b_dds': 32, 'b_phase': 32, 'complex_env': True, 'dac': '33', 'f_dds': 1720.32, 'f_fabric': 430.08, 'fdds_div': 8, 'fs': 6881.28, 'fs_div': 2, 'fs_mult': 56, 'fullpath': 'axis_sg_int4_v2_10', 'has_dds': True, 'has_mixer': True, 'interpolation': 4, 'maxlen': 8192, 'maxv': 32766, 'maxv_scale': 0.9, 'revision': 9, 'samps_per_clk': 1, 'tproc_ch': 15, 'type': 'axis_sg_int4_v2', 'version': '1.0'}]\n",
      "rf.tiles AFTER: {'adc': {'2': {'blocks': ['20', '21', '22'], 'coupling': 'AC', 'f_fabric': 307.2, 'f_out': 307.2, 'f_ref': 245.76, 'fabric_div': 8, 'fs': 2457.6, 'fs_div': 4, 'fs_mult': 40, 'out_div': 1, 'ref_div': 1}}, 'dac': {'0': {'blocks': ['00', '01', '02', '03'], 'coupling': 'AC', 'f_fabric': 599.04, 'f_out': 599.04, 'f_ref': 245.76, 'fabric_div': 16, 'fs': 9584.64, 'fs_div': 1, 'fs_mult': 39, 'out_div': 1, 'ref_div': 1}, '1': {'blocks': ['10', '11', '12', '13'], 'coupling': 'AC', 'f_fabric': 430.08, 'f_out': 430.08, 'f_ref': 245.76, 'fabric_div': 16, 'fs': 6881.28, 'fs_div': 2, 'fs_mult': 56, 'out_div': 1, 'ref_div': 1}, '2': {'fs': 5898.24}, '3': {'blocks': ['30', '31', '32', '33'], 'coupling': 'AC', 'f_fabric': 430.08, 'f_out': 430.08, 'f_ref': 245.76, 'fabric_div': 16, 'fs': 6881.28, 'fs_div': 2, 'fs_mult': 56, 'out_div': 1, 'ref_div': 1}}}\n"
     ]
    }
   ],
   "source": [
    "# B) Edit JSON via helper (this is the whole point)\n",
    "emu = QickEmulator(str(CFG_PATH))\n",
    "emu.set_gen_mixer(0, 100.0)      # e.g. set GEN 0 to 100 MHz\n",
    "emu.set_dac_tile_fs(2, 5898.24)  # e.g. set DAC tile 2 fs\n",
    "emu.commit()                     # persist and reload QickConfig\n",
    "\n",
    "print(\"gens AFTER:\", emu.cfg_dict().get(\"gens\", []))\n",
    "print(\"rf.tiles AFTER:\", emu.cfg_dict().get(\"rf\", {}).get(\"tiles\", {}))"
   ]
  },
  {
   "cell_type": "code",
   "execution_count": 8,
   "id": "eeb90011-84fc-4516-a595-9c10575af377",
   "metadata": {},
   "outputs": [
    {
     "name": "stderr",
     "output_type": "stream",
     "text": [
      "warning: pulse time 1.0 appears to conflict with previous pulse ending at <qick.asm_v2.QickParam object at 0x1048eee50>?\n",
      "warning: pulse time 1.0 appears to conflict with previous pulse ending at <qick.asm_v2.QickParam object at 0x1048eced0>?\n",
      "warning: pulse time 1.0 appears to conflict with previous pulse ending at <qick.asm_v2.QickParam object at 0x1048ef050>?\n",
      "warning: pulse time 1.0 appears to conflict with previous pulse ending at <qick.asm_v2.QickParam object at 0x1048ef550>?\n",
      "warning: pulse time 1.0 appears to conflict with previous pulse ending at <qick.asm_v2.QickParam object at 0x1048ef6d0>?\n",
      "warning: pulse time 1.0 appears to conflict with previous pulse ending at <qick.asm_v2.QickParam object at 0x1048ef050>?\n",
      "warning: pulse time 1.0 appears to conflict with previous pulse ending at <qick.asm_v2.QickParam object at 0x1048efd50>?\n",
      "warning: pulse time 1.0 appears to conflict with previous pulse ending at <qick.asm_v2.QickParam object at 0x1048fc050>?\n",
      "warning: pulse time 1.0 appears to conflict with previous pulse ending at <qick.asm_v2.QickParam object at 0x1048fc350>?\n",
      "warning: pulse time 1.0 appears to conflict with previous pulse ending at <qick.asm_v2.QickParam object at 0x1048fc650>?\n",
      "warning: pulse time 1.0 appears to conflict with previous pulse ending at <qick.asm_v2.QickParam object at 0x1048fc850>?\n",
      "warning: pulse time 1.0 appears to conflict with previous pulse ending at <qick.asm_v2.QickParam object at 0x1048fc9d0>?\n",
      "warning: pulse time 1.0 appears to conflict with previous pulse ending at <qick.asm_v2.QickParam object at 0x1048fc850>?\n",
      "warning: pulse time 1.0 appears to conflict with previous pulse ending at <qick.asm_v2.QickParam object at 0x1048fcfd0>?\n",
      "warning: pulse time 1.0 appears to conflict with previous pulse ending at <qick.asm_v2.QickParam object at 0x1048fc850>?\n",
      "warning: pulse time 1.0 appears to conflict with previous pulse ending at <qick.asm_v2.QickParam object at 0x1048fd550>?\n",
      "warning: pulse time 1.0 appears to conflict with previous pulse ending at <qick.asm_v2.QickParam object at 0x1048fc250>?\n",
      "warning: pulse time 1.0 appears to conflict with previous pulse ending at <qick.asm_v2.QickParam object at 0x1048fc5d0>?\n",
      "warning: pulse time 1.0 appears to conflict with previous pulse ending at <qick.asm_v2.QickParam object at 0x1048fdb50>?\n",
      "warning: pulse time 1.0 appears to conflict with previous pulse ending at <qick.asm_v2.QickParam object at 0x1048fddd0>?\n",
      "warning: pulse time 1.0 appears to conflict with previous pulse ending at <qick.asm_v2.QickParam object at 0x1048fe050>?\n",
      "warning: pulse time 1.0 appears to conflict with previous pulse ending at <qick.asm_v2.QickParam object at 0x1048fe2d0>?\n",
      "warning: pulse time 1.0 appears to conflict with previous pulse ending at <qick.asm_v2.QickParam object at 0x1048fe550>?\n",
      "warning: pulse time 1.0 appears to conflict with previous pulse ending at <qick.asm_v2.QickParam object at 0x1048fe7d0>?\n",
      "warning: pulse time 1.0 appears to conflict with previous pulse ending at <qick.asm_v2.QickParam object at 0x1048fea50>?\n",
      "warning: pulse time 1.0 appears to conflict with previous pulse ending at <qick.asm_v2.QickParam object at 0x1048fecd0>?\n",
      "warning: pulse time 1.0 appears to conflict with previous pulse ending at <qick.asm_v2.QickParam object at 0x1048fef50>?\n",
      "warning: pulse time 1.0 appears to conflict with previous pulse ending at <qick.asm_v2.QickParam object at 0x1048ff1d0>?\n",
      "warning: pulse time 1.0 appears to conflict with previous pulse ending at <qick.asm_v2.QickParam object at 0x1048ff450>?\n"
     ]
    }
   ],
   "source": [
    "GEN_CH = 0\n",
    "RO_CH = 0\n",
    "TRIG_TIME = 0.40\n",
    "FREQ = 100\n",
    "# FREQ = 0\n",
    "class MultiPulseProgram(AveragerProgramV2):\n",
    "    def _initialize(self, cfg):\n",
    "        ro_ch = cfg['ro_ch']\n",
    "        gen_ch = cfg['gen_ch']\n",
    "        \n",
    "        self.declare_gen(ch=gen_ch, nqz=1)\n",
    "        self.declare_readout(ch=ro_ch, length=cfg['ro_len'])\n",
    "\n",
    "        ramp_len = self.cycles2us(20, gen_ch=gen_ch)\n",
    "        self.add_gauss(ch=gen_ch, name=\"ramp\", sigma=ramp_len/10, length=ramp_len, even_length=True)\n",
    "        \n",
    "        self.add_pulse(ch=gen_ch, name=\"myflattop\", ro_ch=ro_ch, \n",
    "                       style    = \"flat_top\", \n",
    "                       envelope = \"ramp\", \n",
    "                       freq     = cfg['freq'], \n",
    "                       length   = 0.1,\n",
    "                       phase    = 0,\n",
    "                       gain     = 1.0, \n",
    "                      )\n",
    "\n",
    "        self.add_pulse(ch=gen_ch, name=\"myflattop2\", ro_ch=ro_ch, \n",
    "                       style    = \"flat_top\", \n",
    "                       envelope = \"ramp\", \n",
    "                       freq     = cfg['freq'], \n",
    "                       length   = 0.1,\n",
    "                       phase    = 90,\n",
    "                       gain     = 0.5, \n",
    "                      )\n",
    "\n",
    "        self.add_readoutconfig(ch=ro_ch, name=\"myro\", freq=cfg['freq'], gen_ch=gen_ch)\n",
    "        # send the config to the dynamic RO\n",
    "        self.send_readoutconfig(ch=ro_ch, name=\"myro\", t=0)\n",
    "        \n",
    "    def _body(self, cfg):\n",
    "        self.trigger(ros=[cfg['ro_ch']], pins=[0], t=cfg['trig_time'], ddr4=True)\n",
    "\n",
    "        for i in range(0,15):\n",
    "            self.pulse(ch=cfg['gen_ch'], name=\"myflattop\", t=1.0)\n",
    "            self.pulse(ch=cfg['gen_ch'], name=\"myflattop2\", t=1.0)\n",
    "config = {'gen_ch': GEN_CH,\n",
    "          'ro_ch': RO_CH,\n",
    "          'freq': FREQ,\n",
    "          'trig_time': 1.0,\n",
    "          'ro_len': 5.0,\n",
    "         }\n",
    "prog = MultiPulseProgram(soccfg, reps=1, final_delay=0.5, cfg=config)\n",
    "emu.export_pmem_hex(prog, path=REPO_ROOT/\"emulator/pmem.mem\")\n",
    "emu.export_wmem_hex(prog, stem=str(REPO_ROOT/\"emulator/wmem\"))  # lane files or single, depending on QICK\n",
    "emu.export_sgmem(prog, ch=0, prefix=str(REPO_ROOT/\"emulator/sgmem_ch\"))"
   ]
  },
  {
   "cell_type": "code",
   "execution_count": 9,
   "id": "f351bd04-3e2f-4bfd-bffc-df74139c576c",
   "metadata": {},
   "outputs": [
    {
     "name": "stdout",
     "output_type": "stream",
     "text": [
      "// PMEM content\n",
      "000000000000000000\n",
      "8c600000000000000c\n",
      "dce000c20000000000\n",
      "4c080000000000d700\n",
      "8c6000000000000020\n",
      "dda00030000000d700\n",
      "dda00034800000d700\n",
      "dda00035000000d700\n",
      "dda00010000000dc00\n",
      "dda00014800000dc00\n",
      "dda00015000000dc00\n",
      "dce00000000000d700\n",
      "dce00020000000d700\n",
      "dce00040000000d700\n",
      "dce00060000000d700\n",
      "dce00080000000d700\n",
      "dce000a0000000d700\n",
      "dce00000000000d700\n",
      "dce00020000000d700\n",
      "dce00040000000d700\n",
      "dce00060000000d700\n",
      "dce00080000000d700\n",
      "dce000a0000000d700\n",
      "dce00000000000d700\n",
      "dce00020000000d700\n",
      "dce00040000000d700\n",
      "dce00060000000d700\n",
      "dce00080000000d700\n",
      "dce000a0000000d700\n",
      "dce00000000000d700\n",
      "dce00020000000d700\n",
      "dce00040000000d700\n",
      "dce00060000000d700\n",
      "dce00080000000d700\n",
      "dce000a0000000d700\n",
      "dce00000000000d700\n",
      "dce00020000000d700\n",
      "dce00040000000d700\n",
      "dce00060000000d700\n",
      "dce00080000000d700\n",
      "dce000a0000000d700\n",
      "dce00000000000d700\n",
      "dce00020000000d700\n",
      "dce00040000000d700\n",
      "dce00060000000d700\n",
      "dce00080000000d700\n",
      "dce000a0000000d700\n",
      "dce00000000000d700\n",
      "dce00020000000d700\n",
      "dce00040000000d700\n",
      "dce00060000000d700\n",
      "dce00080000000d700\n",
      "dce000a0000000d700\n",
      "dce00000000000d700\n",
      "dce00020000000d700\n",
      "dce00040000000d700\n",
      "dce00060000000d700\n",
      "dce00080000000d700\n",
      "dce000a0000000d700\n",
      "dce00000000000d700\n",
      "dce00020000000d700\n",
      "dce00040000000d700\n",
      "dce00060000000d700\n",
      "dce00080000000d700\n",
      "dce000a0000000d700\n",
      "dce00000000000d700\n",
      "dce00020000000d700\n",
      "dce00040000000d700\n",
      "dce00060000000d700\n",
      "dce00080000000d700\n",
      "dce000a0000000d700\n",
      "dce00000000000d700\n",
      "dce00020000000d700\n",
      "dce00040000000d700\n",
      "dce00060000000d700\n",
      "dce00080000000d700\n",
      "dce000a0000000d700\n",
      "dce00000000000d700\n",
      "dce00020000000d700\n",
      "dce00040000000d700\n",
      "dce00060000000d700\n",
      "dce00080000000d700\n",
      "dce000a0000000d700\n",
      "dce00000000000d700\n",
      "dce00020000000d700\n",
      "dce00040000000d700\n",
      "dce00060000000d700\n",
      "dce00080000000d700\n",
      "dce000a0000000d700\n",
      "dce00000000000d700\n",
      "dce00020000000d700\n",
      "dce00040000000d700\n",
      "dce00060000000d700\n",
      "dce00080000000d700\n",
      "dce000a0000000d700\n",
      "dce00000000000d700\n",
      "dce00020000000d700\n",
      "dce00040000000d700\n",
      "dce00060000000d700\n",
      "dce00080000000d700\n",
      "dce000a0000000d700\n",
      "081100000580050500\n",
      "39110ca00580050500\n",
      "4c0800000000057600\n",
      "88000000060000008c\n",
      "081100001000000000\n",
      "398800a010000000a0\n",
      "3c000d600000000000\n"
     ]
    }
   ],
   "source": [
    "prog.print_pmem2hex()"
   ]
  },
  {
   "cell_type": "code",
   "execution_count": 1,
   "id": "8d64e931-d2d9-4d04-81d7-2a91acac54aa",
   "metadata": {},
   "outputs": [
    {
     "name": "stdout",
     "output_type": "stream",
     "text": [
      "Imported QickEmulator OK\n"
     ]
    },
    {
     "name": "stderr",
     "output_type": "stream",
     "text": [
      "/Users/sbf/Desktop/to_verilate/.venv/lib/python3.14/site-packages/tqdm/auto.py:21: TqdmWarning: IProgress not found. Please update jupyter and ipywidgets. See https://ipywidgets.readthedocs.io/en/stable/user_install.html\n",
      "  from .autonotebook import tqdm as notebook_tqdm\n"
     ]
    }
   ],
   "source": [
    "import sys, importlib, pathlib, os\n",
    "\n",
    "REPO_ROOT = pathlib.Path(\"/Users/Sbf/Desktop/to_verilate\").resolve()\n",
    "PKG_DIR   = REPO_ROOT / \"emulator\"               \n",
    "INIT_FILE = PKG_DIR / \"__init__.py\"\n",
    "\n",
    "# 1) Ensure package marker exists\n",
    "if not INIT_FILE.exists():\n",
    "    INIT_FILE.write_text(\"from .emulator import QickEmulator\\n\")\n",
    "\n",
    "# 2) Clean bad sys.path entries that point *inside* the package dir\n",
    "sys.path = [p for p in sys.path\n",
    "            if not (pathlib.Path(p).exists() and pathlib.Path(p).resolve() == PKG_DIR.resolve())]\n",
    "\n",
    "# 3) Ensure only the repo root is on sys.path (so 'emulator' is a package)\n",
    "if str(REPO_ROOT) not in sys.path:\n",
    "    sys.path.insert(0, str(REPO_ROOT))\n",
    "\n",
    "# 4) Nuke any previously imported shadow module and reload finders\n",
    "sys.modules.pop(\"emulator\", None)\n",
    "importlib.invalidate_caches()\n",
    "\n",
    "# 5) Now this will work (because emulator is a package)\n",
    "from emulator.emulator import QickEmulator\n",
    "print(\"Imported QickEmulator OK\")"
   ]
  },
  {
   "cell_type": "code",
   "execution_count": null,
   "id": "0dc030b2-865b-49f8-828c-a4ac9c396aa5",
   "metadata": {},
   "outputs": [],
   "source": []
  }
 ],
 "metadata": {
  "kernelspec": {
   "display_name": "Python 3 (ipykernel)",
   "language": "python",
   "name": "python3"
  },
  "language_info": {
   "codemirror_mode": {
    "name": "ipython",
    "version": 3
   },
   "file_extension": ".py",
   "mimetype": "text/x-python",
   "name": "python",
   "nbconvert_exporter": "python",
   "pygments_lexer": "ipython3",
   "version": "3.14.0"
  }
 },
 "nbformat": 4,
 "nbformat_minor": 5
}
